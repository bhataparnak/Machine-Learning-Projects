{
  "nbformat": 4,
  "nbformat_minor": 0,
  "metadata": {
    "colab": {
      "name": "AB.ipynb",
      "provenance": []
    },
    "kernelspec": {
      "name": "python3",
      "display_name": "Python 3"
    },
    "language_info": {
      "name": "python"
    }
  },
  "cells": [
    {
      "cell_type": "markdown",
      "metadata": {
        "id": "Ii1EfepjhuHc"
      },
      "source": [
        "References\n",
        "https://towardsdatascience.com/a-gentle-introduction-to-self-training-and-semi-supervised-learning-ceee73178b38"
      ]
    },
    {
      "cell_type": "code",
      "metadata": {
        "id": "r4qLgel-U4xF"
      },
      "source": [
        "import numpy as np\n",
        "import pandas as pd\n",
        "import matplotlib.pyplot as plt\n",
        "\n",
        "from sklearn.linear_model import LogisticRegression\n",
        "\n",
        "from sklearn.metrics import f1_score\n",
        "from sklearn.metrics import plot_confusion_matrix"
      ],
      "execution_count": 80,
      "outputs": []
    },
    {
      "cell_type": "code",
      "metadata": {
        "colab": {
          "base_uri": "https://localhost:8080/"
        },
        "id": "0pVlFggoU81J",
        "outputId": "fe077367-cbcf-4b1b-d3f4-82cce29311a5"
      },
      "source": [
        "df = pd.read_csv('/content/self_learning.csv')\n",
        "df.info()\n",
        "df.isnull().any()\n",
        "df = df.fillna(method='ffill')"
      ],
      "execution_count": 81,
      "outputs": [
        {
          "output_type": "stream",
          "text": [
            "<class 'pandas.core.frame.DataFrame'>\n",
            "RangeIndex: 34 entries, 0 to 33\n",
            "Data columns (total 4 columns):\n",
            " #   Column  Non-Null Count  Dtype  \n",
            "---  ------  --------------  -----  \n",
            " 0   Height  34 non-null     int64  \n",
            " 1   Weight  34 non-null     int64  \n",
            " 2   Age     34 non-null     int64  \n",
            " 3   Gender  9 non-null      float64\n",
            "dtypes: float64(1), int64(3)\n",
            "memory usage: 1.2 KB\n"
          ],
          "name": "stdout"
        }
      ]
    },
    {
      "cell_type": "code",
      "metadata": {
        "colab": {
          "base_uri": "https://localhost:8080/"
        },
        "id": "KZlFFEzVZvxQ",
        "outputId": "38b3c4f6-5e2b-4498-e1a4-b85c40db6d49"
      },
      "source": [
        "# Shuffle the data\n",
        "\n",
        "df = df.sample(frac=1, random_state=15).reset_index(drop=True)\n",
        "\n",
        "\n",
        "# Generate indices for splits\n",
        "\n",
        "test_ind = round(len(df)*0.25)\n",
        "train_ind = test_ind + round(len(df)*0.25)\n",
        "unlabeled_ind = train_ind + round(len(df)*0.50)\n",
        "\n",
        "\n",
        "# Partition the data\n",
        "\n",
        "test = df.iloc[:test_ind]\n",
        "train = df.iloc[test_ind:train_ind]\n",
        "unlabeled = df.iloc[train_ind:unlabeled_ind]\n",
        "\n",
        "\n",
        "# Assign data to train, test, and unlabeled sets\n",
        "\n",
        "X_train = train.drop('Gender', axis=1)\n",
        "y_train = train.Gender\n",
        "\n",
        "X_unlabeled = unlabeled.drop('Gender', axis=1)\n",
        "\n",
        "X_test = test.drop('Gender', axis=1)\n",
        "y_test = test.Gender\n",
        "\n",
        "\n",
        "# Check dimensions of data after splitting\n",
        "\n",
        "print(f\"X_train dimensions: {X_train.shape}\")\n",
        "print(f\"y_train dimensions: {y_train.shape}\\n\")\n",
        "\n",
        "print(f\"X_test dimensions: {X_test.shape}\")\n",
        "print(f\"y_test dimensions: {y_test.shape}\\n\")\n",
        "\n",
        "print(f\"X_unlabeled dimensions: {X_unlabeled.shape}\")"
      ],
      "execution_count": 82,
      "outputs": [
        {
          "output_type": "stream",
          "text": [
            "X_train dimensions: (8, 3)\n",
            "y_train dimensions: (8,)\n",
            "\n",
            "X_test dimensions: (8, 3)\n",
            "y_test dimensions: (8,)\n",
            "\n",
            "X_unlabeled dimensions: (17, 3)\n"
          ],
          "name": "stdout"
        }
      ]
    },
    {
      "cell_type": "code",
      "metadata": {
        "colab": {
          "base_uri": "https://localhost:8080/",
          "height": 265
        },
        "id": "I6ADexMOaszu",
        "outputId": "cfaa825d-f319-42c2-d551-878b6d3b6ed8"
      },
      "source": [
        "# Visualize class distribution\n",
        "\n",
        "y_train.value_counts().plot(kind='bar')\n",
        "plt.xticks([0,1], ['M', 'W'])\n",
        "plt.ylabel('Count');"
      ],
      "execution_count": 84,
      "outputs": [
        {
          "output_type": "display_data",
          "data": {
            "image/png": "[encoded data removed]",
            "text/plain": [
              "<Figure size 432x288 with 1 Axes>"
            ]
          },
          "metadata": {
            "tags": [],
            "needs_background": "light"
          }
        }
      ]
    },
    {
      "cell_type": "code",
      "metadata": {
        "colab": {
          "base_uri": "https://localhost:8080/",
          "height": 317
        },
        "id": "mZJlWJaZcKYT",
        "outputId": "ac047888-3f5f-4311-adcb-06ef156611c0"
      },
      "source": [
        "# Logistic Regression Classifier\n",
        "\n",
        "clf = LogisticRegression(max_iter=1000)\n",
        "\n",
        "clf.fit(X_train, y_train)\n",
        "y_hat_test = clf.predict(X_test)\n",
        "y_hat_train = clf.predict(X_train)\n",
        "\n",
        "train_f1 = f1_score(y_train, y_hat_train)\n",
        "test_f1 = f1_score(y_test, y_hat_test)\n",
        "\n",
        "print(f\"Train f1 Score: {train_f1}\")\n",
        "print(f\"Test f1 Score: {test_f1}\")\n",
        "\n",
        "plot_confusion_matrix(clf, X_test, y_test, cmap='Blues', normalize='true',\n",
        "                     display_labels=['M', 'W']);"
      ],
      "execution_count": 85,
      "outputs": [
        {
          "output_type": "stream",
          "text": [
            "Train f1 Score: 0.923076923076923\n",
            "Test f1 Score: 1.0\n"
          ],
          "name": "stdout"
        },
        {
          "output_type": "display_data",
          "data": {
            "image/png": "[encoded data removed]",
            "text/plain": [
              "<Figure size 432x288 with 2 Axes>"
            ]
          },
          "metadata": {
            "tags": [],
            "needs_background": "light"
          }
        }
      ]
    },
    {
      "cell_type": "code",
      "metadata": {
        "colab": {
          "base_uri": "https://localhost:8080/"
        },
        "id": "Br-3TPfYfc8B",
        "outputId": "8b45e809-98c8-4c18-98ad-02e0b2f30058"
      },
      "source": [
        "# Generate probabilities for each prediction\n",
        "\n",
        "clf.predict_proba(X_test)"
      ],
      "execution_count": 86,
      "outputs": [
        {
          "output_type": "execute_result",
          "data": {
            "text/plain": [
              "array([[0.04736474, 0.95263526],\n",
              "       [0.28739596, 0.71260404],\n",
              "       [0.42297275, 0.57702725],\n",
              "       [0.10535976, 0.89464024],\n",
              "       [0.27380215, 0.72619785],\n",
              "       [0.09640877, 0.90359123],\n",
              "       [0.29535187, 0.70464813],\n",
              "       [0.13943045, 0.86056955]])"
            ]
          },
          "metadata": {
            "tags": []
          },
          "execution_count": 86
        }
      ]
    },
    {
      "cell_type": "code",
      "metadata": {
        "colab": {
          "base_uri": "https://localhost:8080/"
        },
        "id": "yp_APvIPfptw",
        "outputId": "8c3afc4a-8913-48d9-f055-1df35cfa71d6"
      },
      "source": [
        "# Initiate iteration counter\n",
        "iterations = 0\n",
        "\n",
        "# Containers to hold f1_scores and # of pseudo-labels\n",
        "train_f1s = []\n",
        "test_f1s = []\n",
        "pseudo_labels = []\n",
        "\n",
        "# Assign value to initiate while loop\n",
        "high_prob = [1] \n",
        "\n",
        "# Loop will run until there are no more high-probability pseudo-labels\n",
        "while len(high_prob) > 0:\n",
        "        \n",
        "    # Fit classifier and make train/test predictions\n",
        "    clf = LogisticRegression(max_iter=1000)\n",
        "    clf.fit(X_train, y_train)\n",
        "    y_hat_train = clf.predict(X_train)\n",
        "    y_hat_test = clf.predict(X_test)\n",
        "\n",
        "    # Calculate and print iteration # and f1 scores, and store f1 scores\n",
        "    train_f1 = f1_score(y_train, y_hat_train)\n",
        "    test_f1 = f1_score(y_test, y_hat_test)\n",
        "    print(f\"Iteration {iterations}\")\n",
        "    print(f\"Train f1: {train_f1}\")\n",
        "    print(f\"Test f1: {test_f1}\")\n",
        "    train_f1s.append(train_f1)\n",
        "    test_f1s.append(test_f1)\n",
        "   \n",
        "    # Generate predictions and probabilities for unlabeled data\n",
        "    print(f\"Now predicting labels for unlabeled data...\")\n",
        "\n",
        "    pred_probs = clf.predict_proba(X_unlabeled)\n",
        "    preds = clf.predict(X_unlabeled)\n",
        "    prob_0 = pred_probs[:,0]\n",
        "    prob_1 = pred_probs[:,1]\n",
        "\n",
        "    # Store predictions and probabilities in dataframe\n",
        "    df_pred_prob = pd.DataFrame([])\n",
        "    df_pred_prob['preds'] = preds\n",
        "    df_pred_prob['prob_0'] = prob_0\n",
        "    df_pred_prob['prob_1'] = prob_1\n",
        "    df_pred_prob.index = X_unlabeled.index\n",
        "    \n",
        "    # Separate predictions with > 99% probability\n",
        "    high_prob = pd.concat([df_pred_prob.loc[df_pred_prob['prob_0'] > 0.99],\n",
        "                           df_pred_prob.loc[df_pred_prob['prob_1'] > 0.99]],\n",
        "                          axis=0)\n",
        "    \n",
        "    print(f\"{len(high_prob)} high-probability predictions added to training data.\")\n",
        "    \n",
        "    pseudo_labels.append(len(high_prob))\n",
        "\n",
        "    # Add pseudo-labeled data to training data\n",
        "    X_train = pd.concat([X_train, X_unlabeled.loc[high_prob.index]], axis=0)\n",
        "    y_train = pd.concat([y_train, high_prob.preds])      \n",
        "    \n",
        "    # Drop pseudo-labeled instances from unlabeled data\n",
        "    X_unlabeled = X_unlabeled.drop(index=high_prob.index)\n",
        "    print(f\"{len(X_unlabeled)} unlabeled instances remaining.\\n\")\n",
        "    \n",
        "    # Update iteration counter\n",
        "    iterations += 1"
      ],
      "execution_count": 87,
      "outputs": [
        {
          "output_type": "stream",
          "text": [
            "Iteration 0\n",
            "Train f1: 0.923076923076923\n",
            "Test f1: 1.0\n",
            "Now predicting labels for unlabeled data...\n",
            "0 high-probability predictions added to training data.\n",
            "17 unlabeled instances remaining.\n",
            "\n"
          ],
          "name": "stdout"
        }
      ]
    },
    {
      "cell_type": "code",
      "metadata": {
        "colab": {
          "base_uri": "https://localhost:8080/",
          "height": 763
        },
        "id": "s1UM3K_Yf93k",
        "outputId": "f8f2869c-ca00-453c-c849-92ebf8c1822f"
      },
      "source": [
        "# Plot f1 scores and number of pseudo-labels added for all iterations\n",
        "\n",
        "fig, (ax1, ax2) = plt.subplots(nrows=2, ncols=1, figsize=(6,8))\n",
        "ax1.plot(range(iterations), test_f1s)\n",
        "ax1.set_ylabel('f1 Score')\n",
        "ax2.bar(x=range(iterations), height=pseudo_labels)\n",
        "ax2.set_ylabel('Pseudo-Labels Created')\n",
        "ax2.set_xlabel('# Iterations');\n",
        "\n",
        "# View confusion matrix after self-training\n",
        "\n",
        "plot_confusion_matrix(clf, X_test, y_test, cmap='Blues', normalize='true',\n",
        "                     display_labels=['M', 'W']);"
      ],
      "execution_count": 88,
      "outputs": [
        {
          "output_type": "display_data",
          "data": {
            "image/png": "[encoded data removed]",
            "text/plain": [
              "<Figure size 432x576 with 2 Axes>"
            ]
          },
          "metadata": {
            "tags": [],
            "needs_background": "light"
          }
        },
        {
          "output_type": "display_data",
          "data": {
            "image/png": "[encoded data removed]",
            "text/plain": [
              "<Figure size 432x288 with 2 Axes>"
            ]
          },
          "metadata": {
            "tags": [],
            "needs_background": "light"
          }
        }
      ]
    }
  ]
}