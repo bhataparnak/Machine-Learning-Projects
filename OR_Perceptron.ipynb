{
  "nbformat": 4,
  "nbformat_minor": 0,
  "metadata": {
    "colab": {
      "name": "OR_Perceptron.ipynb",
      "provenance": [],
      "collapsed_sections": []
    },
    "kernelspec": {
      "name": "python3",
      "display_name": "Python 3"
    },
    "language_info": {
      "name": "python"
    }
  },
  "cells": [
    {
      "cell_type": "code",
      "metadata": {
        "id": "26OLUIf1nXjb"
      },
      "source": [
        "import numpy as np"
      ],
      "execution_count": null,
      "outputs": []
    },
    {
      "cell_type": "markdown",
      "metadata": {
        "id": "z8j2jyiDqpJf"
      },
      "source": [
        "Main Perceptron class"
      ]
    },
    {
      "cell_type": "code",
      "metadata": {
        "id": "YYsMZO_Bqw1V"
      },
      "source": [
        "class Perceptron(object):\n",
        "\n",
        "    def __init__(self, no_of_inputs, epochs=10, learning_rate=0.01):\n",
        "        self.epochs = epochs\n",
        "        self.learning_rate = learning_rate\n",
        "        self.weights = np.zeros(no_of_inputs + 1)\n",
        "           \n",
        "    def predict(self, inputs):\n",
        "        summation = np.dot(inputs, self.weights[1:]) + self.weights[0]\n",
        "        if summation > 0:\n",
        "          activation = 1\n",
        "        else:\n",
        "          activation = 0            \n",
        "        return activation\n",
        "\n",
        "    def train(self, training_inputs, labels):\n",
        "        for _ in range(self.epochs):\n",
        "            for inputs, label in zip(training_inputs, labels):\n",
        "                prediction = self.predict(inputs)\n",
        "                self.weights[1:] += self.learning_rate * (label - prediction) * inputs\n",
        "                self.weights[0] += self.learning_rate * (label - prediction)\n"
      ],
      "execution_count": null,
      "outputs": []
    },
    {
      "cell_type": "markdown",
      "metadata": {
        "id": "6gpztAkUq-gV"
      },
      "source": [
        "Train the Model"
      ]
    },
    {
      "cell_type": "code",
      "metadata": {
        "id": "oN4TcKFBq9xN"
      },
      "source": [
        "training_inputs = []\n",
        "training_inputs.append(np.array([1, 1, 1]))\n",
        "training_inputs.append(np.array([1, 1, -1]))\n",
        "training_inputs.append(np.array([1, -1, 1]))\n",
        "training_inputs.append(np.array([1, -1, -1]))\n",
        "training_inputs.append(np.array([-1, 1, 1]))\n",
        "training_inputs.append(np.array([-1, 1, -1]))\n",
        "training_inputs.append(np.array([-1, -1, 1]))\n",
        "training_inputs.append(np.array([-1, -1, -1]))\n",
        "labels = np.array([1, 1, 1, 1, 1, 1, 1, -1])\n",
        "\n",
        "perceptron = Perceptron(3)\n",
        "perceptron.train(training_inputs, labels)\n"
      ],
      "execution_count": null,
      "outputs": []
    },
    {
      "cell_type": "markdown",
      "metadata": {
        "id": "Vx-ShIOp7tHd"
      },
      "source": [
        "Test"
      ]
    },
    {
      "cell_type": "code",
      "metadata": {
        "colab": {
          "base_uri": "https://localhost:8080/"
        },
        "id": "CxJ9ky2f7ulg",
        "outputId": "2d16a6a4-acb0-4438-937b-a29569c62657"
      },
      "source": [
        "inputs = np.array([1, 1, -1])\n",
        "perceptron.predict(inputs) \n"
      ],
      "execution_count": null,
      "outputs": [
        {
          "output_type": "execute_result",
          "data": {
            "text/plain": [
              "1"
            ]
          },
          "metadata": {
            "tags": []
          },
          "execution_count": 9
        }
      ]
    },
    {
      "cell_type": "code",
      "metadata": {
        "colab": {
          "base_uri": "https://localhost:8080/"
        },
        "id": "4UOkfc2f8Vnp",
        "outputId": "9d8c0f08-cf6a-47ba-c944-0c12b8c8ed71"
      },
      "source": [
        "inputs = np.array([-1, -1, -1])\n",
        "perceptron.predict(inputs) "
      ],
      "execution_count": null,
      "outputs": [
        {
          "output_type": "execute_result",
          "data": {
            "text/plain": [
              "0"
            ]
          },
          "metadata": {
            "tags": []
          },
          "execution_count": 10
        }
      ]
    }
  ]
}