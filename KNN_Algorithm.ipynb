{
  "nbformat": 4,
  "nbformat_minor": 0,
  "metadata": {
    "kernelspec": {
      "display_name": "Python 3",
      "language": "python",
      "name": "python3"
    },
    "language_info": {
      "codemirror_mode": {
        "name": "ipython",
        "version": 3
      },
      "file_extension": ".py",
      "mimetype": "text/x-python",
      "name": "python",
      "nbconvert_exporter": "python",
      "pygments_lexer": "ipython3",
      "version": "3.7.6"
    },
    "colab": {
      "name": "homework1_KNN_AparnaBhat.ipynb",
      "provenance": [],
      "collapsed_sections": []
    }
  },
  "cells": [
    {
      "cell_type": "code",
      "metadata": {
        "id": "3Y0nwL0gTk0t"
      },
      "source": [
        "#Created on Sun Feb 14 2021\r\n",
        "#@author: Aparna\r\n",
        "#This file has been coded using Google Colab\r\n",
        "#Dataset and test_data are hardcoded for implementation and testing of the concept purpose\r\n",
        "\r\n"
      ],
      "execution_count": 3,
      "outputs": []
    },
    {
      "cell_type": "code",
      "metadata": {
        "colab": {
          "base_uri": "https://localhost:8080/"
        },
        "id": "C2ugw9L7OzRr",
        "outputId": "b7ce6fc9-503c-4ce6-e1e6-d98989255673"
      },
      "source": [
        "from math import sqrt\n",
        "\n",
        "def euclidean_distance(row1, row2):\n",
        "    dist = 0.0\n",
        "    for i in range(len(row1)-1):\n",
        "        dist += (row1[i] - row2[i])**2\n",
        "    return sqrt(dist)\n",
        "\n",
        "def most_freq(List): \n",
        "    counter = 0\n",
        "    num = List[0] \n",
        "      \n",
        "    for i in List: \n",
        "        current_freq = List.count(i) \n",
        "        if(current_freq> counter): \n",
        "            counter = current_freq \n",
        "            num = i \n",
        "  \n",
        "    return num\n",
        "\n",
        "dataset =[\n",
        "         [170, 57, 32, 'W'],\n",
        "         [190, 95, 28, 'M'],\n",
        "         [150, 45, 35, 'W'],\n",
        "         [168, 65, 29, 'M'],\n",
        "         [175, 78, 26, 'M'],\n",
        "         [185, 90, 32, 'M'],\n",
        "         [171, 65, 28, 'W'],\n",
        "         [155, 48, 31, 'W'],\n",
        "         [165, 60, 27, 'W'],\n",
        "         [182, 80, 30, 'M'],\n",
        "         [175, 69, 28, 'W'],\n",
        "         [178, 80, 27, 'M'],\n",
        "         [160, 50, 31, 'W'],\n",
        "         [170, 72, 30, 'M']]\n",
        "\n",
        "\n",
        "test_data = [[162, 53, 28],\n",
        "               [168, 75, 32],\n",
        "               [175, 70, 30],\n",
        "               [180, 85, 29]]\n",
        "\n",
        "for k in [1, 3, 5]:\n",
        "    for test_row in test_data:\n",
        "        numbers = {}\n",
        "        for row in dataset:\n",
        "            distance = euclidean_distance(row, test_row)\n",
        "            numbers.update({distance: row[3]})\n",
        "        sorted_numb = sorted(numbers)\n",
        "        list_values = []\n",
        "        for i in range(k):\n",
        "            list_values.append(numbers.get(sorted_numb[i]))\n",
        "        print(\"for k=\"+str(k)+\" and input is \"+ str(test_row)+\" the predicted gender is \"+ most_freq(list_values))\n",
        "        "
      ],
      "execution_count": 5,
      "outputs": [
        {
          "output_type": "stream",
          "text": [
            "for k=1 and input is [162, 53, 28] the predicted gender is W\n",
            "for k=1 and input is [168, 75, 32] the predicted gender is M\n",
            "for k=1 and input is [175, 70, 30] the predicted gender is W\n",
            "for k=1 and input is [180, 85, 29] the predicted gender is M\n",
            "for k=3 and input is [162, 53, 28] the predicted gender is W\n",
            "for k=3 and input is [168, 75, 32] the predicted gender is M\n",
            "for k=3 and input is [175, 70, 30] the predicted gender is W\n",
            "for k=3 and input is [180, 85, 29] the predicted gender is M\n",
            "for k=5 and input is [162, 53, 28] the predicted gender is W\n",
            "for k=5 and input is [168, 75, 32] the predicted gender is M\n",
            "for k=5 and input is [175, 70, 30] the predicted gender is M\n",
            "for k=5 and input is [180, 85, 29] the predicted gender is M\n"
          ],
          "name": "stdout"
        }
      ]
    },
    {
      "cell_type": "code",
      "metadata": {
        "id": "fAn2d8GcOzRu"
      },
      "source": [
        ""
      ],
      "execution_count": null,
      "outputs": []
    }
  ]
}