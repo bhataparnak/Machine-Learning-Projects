{
  "nbformat": 4,
  "nbformat_minor": 0,
  "metadata": {
    "colab": {
      "name": "XOR_Perceptron.ipynb",
      "provenance": []
    },
    "kernelspec": {
      "name": "python3",
      "display_name": "Python 3"
    },
    "language_info": {
      "name": "python"
    }
  },
  "cells": [
    {
      "cell_type": "code",
      "metadata": {
        "id": "7jvWVQjB-ajS"
      },
      "source": [
        "import numpy as np\n",
        "import pandas as pd\n",
        "import matplotlib.pyplot as plt"
      ],
      "execution_count": null,
      "outputs": []
    },
    {
      "cell_type": "code",
      "metadata": {
        "id": "L7qgeoWj8k5s"
      },
      "source": [
        "class Perceptron(object):\n",
        "  def __init__(self, no_of_inputs, epochs=100, learning_rate=0.01):\n",
        "        self.epochs = epochs\n",
        "        self.learning_rate = learning_rate\n",
        "        self.weights = np.zeros(no_of_inputs + 1)\n",
        "        self.weights[0] = 1\n",
        "  def predict(self, inputs):\n",
        "        summation = np.dot(inputs, self.weights[1:]) + self.weights[0]\n",
        "        if summation > 0:\n",
        "            activation = 1\n",
        "        elif summation == 0:\n",
        "            activation = 0 \n",
        "        else:\n",
        "            activation = -1\n",
        "        return activation\n",
        "\n",
        "  def train(self, training_inputs, labels):\n",
        "        misclassified_ = [] \n",
        "        misclassified = 0\n",
        "        for _ in range(self.epochs):\n",
        "            for inputs, label in zip(training_inputs, labels):\n",
        "                prediction = self.predict(inputs)\n",
        "                delta = (label - prediction)\n",
        "                if(delta): # misclassified\n",
        "                    misclassified += 1\n",
        "                    self.weights[1:] += self.learning_rate * (label - prediction) * inputs\n",
        "                    self.weights[0] += self.learning_rate * (label - prediction)\n",
        "            misclassified_.append(misclassified)\n",
        "        return (self.weights, misclassified_)\n",
        "            "
      ],
      "execution_count": null,
      "outputs": []
    },
    {
      "cell_type": "markdown",
      "metadata": {
        "id": "cegxaD-y967N"
      },
      "source": [
        "For OR"
      ]
    },
    {
      "cell_type": "code",
      "metadata": {
        "colab": {
          "base_uri": "https://localhost:8080/",
          "height": 280
        },
        "id": "LWi_thvG95wD",
        "outputId": "b4673c25-7110-4255-f672-d67ad00b740f"
      },
      "source": [
        "training_inputs = []\n",
        "training_inputs.append(np.array([1, 1, 1]))\n",
        "training_inputs.append(np.array([1, 1, -1]))\n",
        "training_inputs.append(np.array([1, -1, 1]))\n",
        "training_inputs.append(np.array([1, -1, -1]))\n",
        "training_inputs.append(np.array([-1, 1, 1]))\n",
        "training_inputs.append(np.array([-1, 1, -1]))\n",
        "training_inputs.append(np.array([-1, -1, 1]))\n",
        "training_inputs.append(np.array([-1, -1, -1]))\n",
        "\n",
        "labels = np.array([1, 1, 1, 1, 1, 1, 1, -1])\n",
        "\n",
        "\n",
        "perceptron = Perceptron(3)\n",
        "w, misclassified_ = perceptron.train(training_inputs, labels)\n",
        "\n",
        "epochs = np.arange(1, 100+1)\n",
        "plt.plot(epochs, misclassified_)\n",
        "plt.xlabel('iterations_OR')\n",
        "plt.ylabel('misclassified_OR')\n",
        "plt.show()"
      ],
      "execution_count": null,
      "outputs": [
        {
          "output_type": "display_data",
          "data": {
            "image/png": "[encoded data removed]",
            "text/plain": [
              "<Figure size 432x288 with 1 Axes>"
            ]
          },
          "metadata": {
            "tags": [],
            "needs_background": "light"
          }
        }
      ]
    },
    {
      "cell_type": "markdown",
      "metadata": {
        "id": "FrqYdYHb9yDy"
      },
      "source": [
        "For Xor"
      ]
    },
    {
      "cell_type": "code",
      "metadata": {
        "colab": {
          "base_uri": "https://localhost:8080/",
          "height": 280
        },
        "id": "w6X409Ro9vas",
        "outputId": "275c4d96-4c4a-4712-952b-c44d50df8795"
      },
      "source": [
        "training_inputs_xor = []\n",
        "training_inputs_xor.append(np.array([1, 1, 1]))\n",
        "training_inputs_xor.append(np.array([1, 1, -1]))\n",
        "training_inputs_xor.append(np.array([1, -1, 1]))\n",
        "training_inputs_xor.append(np.array([1, -1, -1]))\n",
        "training_inputs_xor.append(np.array([-1, 1, 1]))\n",
        "training_inputs_xor.append(np.array([-1, 1, -1]))\n",
        "training_inputs_xor.append(np.array([-1, -1, 1]))\n",
        "training_inputs_xor.append(np.array([-1, -1, -1]))\n",
        "\n",
        "labels_xor = np.array([-1, 1, 1, 1, 1, 1, 1, -1])\n",
        "\n",
        "\n",
        "perceptron = Perceptron(3)\n",
        "w, misclassified_ = perceptron.train(training_inputs_xor, labels_xor)\n",
        "\n",
        "epochs = np.arange(1, 100+1)\n",
        "plt.plot(epochs, misclassified_)\n",
        "plt.xlabel('iterations_XOR')\n",
        "plt.ylabel('misclassified_XOR')\n",
        "plt.show()"
      ],
      "execution_count": null,
      "outputs": [
        {
          "output_type": "display_data",
          "data": {
            "image/png": "[encoded data removed]",
            "text/plain": [
              "<Figure size 432x288 with 1 Axes>"
            ]
          },
          "metadata": {
            "tags": [],
            "needs_background": "light"
          }
        }
      ]
    }
  ]
}